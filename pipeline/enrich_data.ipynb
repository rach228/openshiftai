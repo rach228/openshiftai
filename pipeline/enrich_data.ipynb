import os
import boto3

key_id = os.getenv("AWS_ACCESS_KEY_ID")
secret_key = os.getenv("AWS_SECRET_ACCESS_KEY")
endpoint = os.getenv("AWS_S3_ENDPOINT")
bucket_name = os.getenv("AWS_S3_BUCKET")

s3 = boto3.client(
    "s3",
    aws_access_key_id=key_id,
    aws_secret_access_key=secret_key,
    endpoint_url=endpoint,
    verify=False
)

print('environment')
print(os.environ)
print('-----')
print(os.listdir('.'))
print('-----')

with open("enrich_output.txt", "w") as out:
    with open("ingest_output.txt", "r") as f:
        for line in f:
            print(line)
            out.write('enrich: ' + line)
