import os
import boto3

key_id = os.getenv("AWS_ACCESS_KEY_ID")
secret_key = os.getenv("AWS_SECRET_ACCESS_KEY")
endpoint = os.getenv("AWS_S3_ENDPOINT")
bucket_name = os.getenv("AWS_S3_BUCKET")

s3 = boto3.client(
    "s3",
    aws_access_key_id=key_id,
    aws_secret_access_key=secret_key,
    endpoint_url=endpoint,
    verify=False
)

# retrieve the metadata of contents within the bucket
objects = s3.list_objects_v2(Bucket=bucket_name)

# output the name of each object within the bucket
for obj in objects["Contents"]:
    print(obj["Key"])
    
s3.download_file(bucket_name, "input.txt", "input.txt")

with open("ingest_output.txt", "w") as out:
    with open("input.txt", "r") as f:
        for line in f:
            print(line)
            out.write(line)
